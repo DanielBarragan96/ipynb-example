{
 "cells": [
  {
   "cell_type": "markdown",
   "metadata": {},
   "source": [
    "# Example\n",
    "This is a simple Jupiter notebook example"
   ]
  },
  {
   "cell_type": "code",
   "execution_count": 22,
   "metadata": {},
   "outputs": [
    {
     "name": "stdout",
     "output_type": "stream",
     "text": [
      "Savings = $10000\n",
      "Yearly rate 9.0% = $900.00\n",
      "monthly: $73.97\n",
      "dayly: $2.47\n",
      "Months for ROI: 135\n",
      "Years for ROI: 11\n"
     ]
    }
   ],
   "source": [
    "import math\n",
    "\n",
    "annual_rate = 0.09\n",
    "dayly_rate = annual_rate / 365\n",
    "monthly_rate = dayly_rate * 30\n",
    "\n",
    "savings = 10_000\n",
    "\n",
    "dayly_yield = savings * dayly_rate\n",
    "monthly_yield = savings * monthly_rate\n",
    "annual_yield = savings * annual_rate\n",
    "\n",
    "print(f'Savings = ${savings}')\n",
    "print(f'Yearly rate {annual_rate * 100}% = ${\"{:,.2f}\".format(annual_yield)}')\n",
    "print(f'monthly: ${\"{:,.2f}\".format(monthly_yield)}')\n",
    "print(f'dayly: ${\"{:,.2f}\".format(dayly_yield)}')\n",
    "\n",
    "months_2_roi = savings / monthly_yield\n",
    "print(f'Months for ROI: {math.floor(months_2_roi)}')\n",
    "print(f'Years for ROI: {math.floor(months_2_roi / 12)}')"
   ]
  },
  {
   "cell_type": "markdown",
   "metadata": {},
   "source": [
    "END"
   ]
  }
 ],
 "metadata": {
  "kernelspec": {
   "display_name": "Python 3",
   "language": "python",
   "name": "python3"
  },
  "language_info": {
   "codemirror_mode": {
    "name": "ipython",
    "version": 3
   },
   "file_extension": ".py",
   "mimetype": "text/x-python",
   "name": "python",
   "nbconvert_exporter": "python",
   "pygments_lexer": "ipython3",
   "version": "3.11.5"
  },
  "orig_nbformat": 4
 },
 "nbformat": 4,
 "nbformat_minor": 2
}
